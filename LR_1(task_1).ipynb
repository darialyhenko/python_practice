{
 "cells": [
  {
   "cell_type": "code",
   "execution_count": 21,
   "metadata": {},
   "outputs": [
    {
     "name": "stdout",
     "output_type": "stream",
     "text": [
      "2-й воин бьет 1-го воина\n",
      "У 1-го воина осталось 80 HP \n",
      "\n",
      "2-й воин бьет 1-го воина\n",
      "У 1-го воина осталось 60 HP \n",
      "\n",
      "2-й воин бьет 1-го воина\n",
      "У 1-го воина осталось 40 HP \n",
      "\n",
      "3-й воин бьет 2-го воина\n",
      "У 2-го воина осталось 80 HP \n",
      "\n",
      "2-й воин бьет 3-го воина\n",
      "У 3-го воина осталось 80 HP \n",
      "\n",
      "1-й воин бьет 3-го воина\n",
      "У 3-го воина осталось 60 HP \n",
      "\n",
      "1-й воин бьет 3-го воина\n",
      "У 3-го воина осталось 40 HP \n",
      "\n",
      "1-й воин бьет 3-го воина\n",
      "У 3-го воина осталось 20 HP \n",
      "\n",
      "2-й воин бьет 3-го воина\n",
      "У 3-го воина осталось 0 HP \n",
      "\n",
      "3-й воин погиб от рук 2-го воина\n",
      "\n",
      "1-й воин бьет 2-го воина\n",
      "У 2-го воина осталось 60 HP \n",
      "\n",
      "1-й воин бьет 2-го воина\n",
      "У 2-го воина осталось 40 HP \n",
      "\n",
      "1-й воин бьет 2-го воина\n",
      "У 2-го воина осталось 20 HP \n",
      "\n",
      "1-й воин бьет 2-го воина\n",
      "У 2-го воина осталось 0 HP \n",
      "\n",
      "2-й воин погиб от рук 1-го воина\n",
      "\n",
      "1-й воин победил\n"
     ]
    }
   ],
   "source": [
    "import random\n",
    "class Warrior:\n",
    "    def __init__(self, name, health):\n",
    "        self.name = name\n",
    "        self.health = health\n",
    "    def hit(self):\n",
    "        self.health = self.health - 20\n",
    "        return self.health\n",
    " \n",
    "unit1 = Warrior('1', 100)\n",
    "unit2 = Warrior('2',100)\n",
    "unit3 = Warrior('3',100)\n",
    "unit_list = [unit1.name,unit2.name,unit3.name]\n",
    "\n",
    "while True:\n",
    "    if len(unit_list)==1:\n",
    "        print(unit_list[0] + '-й воин победил')\n",
    "        break\n",
    "    x = random.choice(unit_list)\n",
    "    y = random.choice(unit_list)\n",
    "    if x != y:\n",
    "        print('%s-й воин бьет %s-го воина' % (y, x))\n",
    "        if x == '1':\n",
    "            print('У %s-го воина осталось %s HP \\n' % (x, unit1.hit()))\n",
    "            if unit1.health <= 0:\n",
    "                print('%s-й воин погиб от рук %s-го воина\\n' % (x, y))\n",
    "                unit_list.remove(x)\n",
    "        if x == '2':\n",
    "            print('У %s-го воина осталось %s HP \\n' % (x, unit2.hit()))\n",
    "            if unit2.health <= 0:\n",
    "                print('%s-й воин погиб от рук %s-го воина\\n' % (x, y))\n",
    "                unit_list.remove(x)\n",
    "        if x == '3':\n",
    "            print('У %s-го воина осталось %s HP \\n' % (x, unit3.hit()))\n",
    "            if unit3.health <= 0:\n",
    "                print('%s-й воин погиб от рук %s-го воина\\n' % (x, y))\n",
    "                unit_list.remove(x)"
   ]
  },
  {
   "cell_type": "code",
   "execution_count": null,
   "metadata": {},
   "outputs": [],
   "source": []
  }
 ],
 "metadata": {
  "kernelspec": {
   "display_name": "Python 3",
   "language": "python",
   "name": "python3"
  },
  "language_info": {
   "codemirror_mode": {
    "name": "ipython",
    "version": 3
   },
   "file_extension": ".py",
   "mimetype": "text/x-python",
   "name": "python",
   "nbconvert_exporter": "python",
   "pygments_lexer": "ipython3",
   "version": "3.7.2"
  }
 },
 "nbformat": 4,
 "nbformat_minor": 2
}
