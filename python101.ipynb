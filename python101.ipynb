{
 "cells": [
  {
   "cell_type": "code",
   "execution_count": 1,
   "metadata": {},
   "outputs": [
    {
     "name": "stdout",
     "output_type": "stream",
     "text": [
      "1 2\n"
     ]
    }
   ],
   "source": [
    "a = 1; b = 2; print(a, b)"
   ]
  },
  {
   "cell_type": "code",
   "execution_count": 3,
   "metadata": {},
   "outputs": [
    {
     "name": "stdout",
     "output_type": "stream",
     "text": [
      "true\n"
     ]
    }
   ],
   "source": [
    "if 1:\n",
    "    print('true')\n",
    "else:\n",
    "    print('false')"
   ]
  },
  {
   "cell_type": "code",
   "execution_count": 4,
   "metadata": {},
   "outputs": [
    {
     "name": "stdout",
     "output_type": "stream",
     "text": [
      "5\n",
      "Mid\n"
     ]
    }
   ],
   "source": [
    "a = int(input())\n",
    "if a < -5:\n",
    "    print('Low')\n",
    "elif -5 <= a <= 5:\n",
    "    print('Mid')\n",
    "else:\n",
    "    print('High')"
   ]
  },
  {
   "cell_type": "code",
   "execution_count": 5,
   "metadata": {},
   "outputs": [
    {
     "name": "stdout",
     "output_type": "stream",
     "text": [
      "t\n"
     ]
    }
   ],
   "source": [
    "A = 't' if 'spam' else 'f'\n",
    "print(A)"
   ]
  },
  {
   "cell_type": "code",
   "execution_count": 6,
   "metadata": {},
   "outputs": [
    {
     "name": "stdout",
     "output_type": "stream",
     "text": [
      "f\n"
     ]
    }
   ],
   "source": [
    "A = 't' if '' else 'f'\n",
    "print(A)"
   ]
  },
  {
   "cell_type": "code",
   "execution_count": 7,
   "metadata": {},
   "outputs": [
    {
     "name": "stdout",
     "output_type": "stream",
     "text": [
      "5\n",
      "7\n",
      "9\n",
      "11\n",
      "13\n"
     ]
    }
   ],
   "source": [
    "i=5\n",
    "while i<15:\n",
    "    print(i)\n",
    "    i=i+2"
   ]
  },
  {
   "cell_type": "code",
   "execution_count": 8,
   "metadata": {},
   "outputs": [
    {
     "name": "stdout",
     "output_type": "stream",
     "text": [
      "HHeelllloo  wwoorrlldd"
     ]
    }
   ],
   "source": [
    "for i in 'Hello world':\n",
    "    print(i*2,end='')"
   ]
  },
  {
   "cell_type": "code",
   "execution_count": 9,
   "metadata": {},
   "outputs": [
    {
     "name": "stdout",
     "output_type": "stream",
     "text": [
      "HHeellll  wwrrlldd"
     ]
    }
   ],
   "source": [
    "for i in 'Hello world':\n",
    "    if i=='o':\n",
    "        continue\n",
    "    print(i*2,end='')"
   ]
  },
  {
   "cell_type": "code",
   "execution_count": 10,
   "metadata": {},
   "outputs": [
    {
     "name": "stdout",
     "output_type": "stream",
     "text": [
      "HHeellll"
     ]
    }
   ],
   "source": [
    "for i in 'Hello world':\n",
    "    if i=='o':\n",
    "        break\n",
    "    print(i*2,end='')"
   ]
  },
  {
   "cell_type": "code",
   "execution_count": 11,
   "metadata": {},
   "outputs": [
    {
     "name": "stdout",
     "output_type": "stream",
     "text": [
      "Буквы а в строке нет\n",
      "Буквы а в строке нет\n",
      "Буквы а в строке нет\n",
      "Буквы а в строке нет\n",
      "Буквы а в строке нет\n",
      "Буквы а в строке нет\n",
      "Буквы а в строке нет\n",
      "Буквы а в строке нет\n",
      "Буквы а в строке нет\n",
      "Буквы а в строке нет\n",
      "Буквы а в строке нет\n"
     ]
    }
   ],
   "source": [
    "for i in 'Hello world':\n",
    "    if i=='a':\n",
    "        break\n",
    "    else:\n",
    "        print('Буквы а в строке нет')"
   ]
  },
  {
   "cell_type": "code",
   "execution_count": 12,
   "metadata": {},
   "outputs": [
    {
     "name": "stdout",
     "output_type": "stream",
     "text": [
      "3 0b1000\n"
     ]
    }
   ],
   "source": [
    "a=int(3.14)\n",
    "b=bin(8)\n",
    "print(a,b)"
   ]
  },
  {
   "cell_type": "code",
   "execution_count": 13,
   "metadata": {},
   "outputs": [
    {
     "name": "stdout",
     "output_type": "stream",
     "text": [
      "12 8 20 5.0 5 0 -10 -2 10 2 100\n",
      "10 8 2 40 2 -11 -3\n",
      "(1+1j)\n"
     ]
    }
   ],
   "source": [
    "x=10\n",
    "y=2\n",
    "print (x+y,x-y,x*y,x/y,x//y,x%y,-x,-y,abs(x),abs(y),x**y)\n",
    "print(x|y,x^y,x&y,x<<y,x>>y,~x,~y)\n",
    "c=complex(1,1)\n",
    "print (c)"
   ]
  },
  {
   "cell_type": "code",
   "execution_count": 14,
   "metadata": {},
   "outputs": [
    {
     "name": "stdout",
     "output_type": "stream",
     "text": [
      "spam\"s\n",
      "spam's\n",
      "\\n\\n\\\n",
      "\\n\\n\\\n",
      "\\n\\n\n"
     ]
    }
   ],
   "source": [
    "S = 'spam\"s'\n",
    "print (S)\n",
    "S = \"spam's\"\n",
    "print (S)\n",
    "S = r'\\n\\n\\\\'[:-1]\n",
    "print (S)\n",
    "S = r'\\n\\n' + '\\\\'\n",
    "print (S)\n",
    "S = '\\\\n\\\\n'\n",
    "print (S)"
   ]
  },
  {
   "cell_type": "code",
   "execution_count": 15,
   "metadata": {},
   "outputs": [
    {
     "name": "stdout",
     "output_type": "stream",
     "text": [
      "spameggs\n",
      "spamspamspam\n",
      "s\n",
      "a\n",
      "me\n",
      "sggemaps\n"
     ]
    }
   ],
   "source": [
    "S1 = 'spam'\n",
    "S2 = 'eggs'\n",
    "print(S1 + S2)\n",
    "print('spam' * 3)\n",
    "len('spam')\n",
    "print(S1[0])\n",
    "print(S1[-2])\n",
    "s = 'spameggs'\n",
    "print(s[3:5])\n",
    "print(s[::-1])"
   ]
  },
  {
   "cell_type": "code",
   "execution_count": 16,
   "metadata": {},
   "outputs": [
    {
     "name": "stdout",
     "output_type": "stream",
     "text": [
      "Hello, Vasya!\n",
      "c, b, a\n",
      "X: 3;  Y: 5\n",
      "repr() shows quotes: 'test1'; str() doesn't: test2\n",
      "left aligned                  \n",
      "                 right aligned\n",
      "           centered           \n"
     ]
    },
    {
     "data": {
      "text/plain": [
       "'Correct answers: 88.64%'"
      ]
     },
     "execution_count": 16,
     "metadata": {},
     "output_type": "execute_result"
    }
   ],
   "source": [
    "print('Hello, {}!'.format('Vasya'))\n",
    "print('{2}, {1}, {0}'.format('a', 'b', 'c'))\n",
    "coord = (3, 5)\n",
    "print('X: {0[0]};  Y: {0[1]}'.format(coord))\n",
    "print(\"repr() shows quotes: {!r}; str() doesn't: {!s}\".format('test1', 'test2'))\n",
    "print('{:<30}'.format('left aligned'))\n",
    "print('{:>30}'.format('right aligned'))\n",
    "print('{:^30}'.format('centered'))\n",
    "points = 19.5\n",
    "total = 22\n",
    "'Correct answers: {:.2%}'.format(points/total)"
   ]
  },
  {
   "cell_type": "code",
   "execution_count": 17,
   "metadata": {},
   "outputs": [
    {
     "name": "stdout",
     "output_type": "stream",
     "text": [
      "['с', 'п', 'и', 'с', 'о', 'к']\n",
      "['lll', 'iii', 'sss', 'ttt']\n",
      "['ls', 'lp', 'lm', 'ss', 'sp', 'sm', 'ts', 'tp', 'tm']\n",
      "None\n",
      "2 1 0\n",
      "[1234.5, 1, 333, 333, 66.25]\n",
      "[1, 66.25, 333, 333, 1234.5]\n",
      "[1, 66.25, 333, 333]\n"
     ]
    }
   ],
   "source": [
    "print(list('список'))\n",
    "c = [c * 3 for c in 'list']\n",
    "print(c)\n",
    "c = [c + d for c in 'list' if c != 'i' for d in 'spam' if d != 'a']\n",
    "print(c)\n",
    "l = [1, 2, 3, 5, 7]\n",
    "print(l.sort())\n",
    "a = [66.25, 333, 333, 1, 1234.5]\n",
    "print(a.count(333), a.count(66.25), a.count('x'))\n",
    "a.reverse()\n",
    "print(a)\n",
    "a.sort()\n",
    "print(a)\n",
    "a.remove(1234.5)\n",
    "print(a)"
   ]
  },
  {
   "cell_type": "code",
   "execution_count": 18,
   "metadata": {},
   "outputs": [
    {
     "name": "stdout",
     "output_type": "stream",
     "text": [
      "1\n",
      "1\n",
      "[8, 7]\n",
      "[]\n",
      "[1]\n"
     ]
    }
   ],
   "source": [
    "a = [1, 3, 8, 7]\n",
    "print(a[0])\n",
    "print(a[-4])\n",
    "print(a[2:])\n",
    "print(a[1:4:-1])\n",
    "del a[1:]\n",
    "print(a)"
   ]
  },
  {
   "cell_type": "code",
   "execution_count": 19,
   "metadata": {},
   "outputs": [
    {
     "name": "stdout",
     "output_type": "stream",
     "text": [
      "36\n",
      "44\n",
      "{(1, 1, 1): 1}\n",
      "()\n",
      "()\n",
      "('s',)\n",
      "('s',)\n",
      "('h', 'e', 'l', 'l', 'o', ',', ' ', 'w', 'o', 'r', 'l', 'd', '!')\n"
     ]
    }
   ],
   "source": [
    "a = (1, 2, 3, 4, 5, 6)\n",
    "b = [1, 2, 3, 4, 5, 6]\n",
    "print(a.__sizeof__())\n",
    "print(b.__sizeof__())\n",
    "d = {(1, 1, 1) : 1}\n",
    "print(d)\n",
    "a = tuple()\n",
    "print(a)\n",
    "a = ()\n",
    "print(a)\n",
    "a = ('s',)\n",
    "print(a)\n",
    "a = 's',\n",
    "print(a)\n",
    "a = tuple('hello, world!')\n",
    "print(a)"
   ]
  },
  {
   "cell_type": "code",
   "execution_count": 20,
   "metadata": {},
   "outputs": [
    {
     "name": "stdout",
     "output_type": "stream",
     "text": [
      "{}\n",
      "{'dict': 1, 'dictionary': 2}\n",
      "{1: 1, 2: 4}\n",
      "{'a': None, 'b': None}\n",
      "{'a': 100, 'b': 100}\n",
      "{0: 0, 1: 1, 2: 4, 3: 9, 4: 16, 5: 25, 6: 36}\n",
      "2\n",
      "16\n",
      "{1: 2, 2: 4, 3: 9, 4: 16}\n",
      "{1: 2, 2: 4, 3: 9, 4: 16}\n",
      "{}\n"
     ]
    }
   ],
   "source": [
    "d = {}\n",
    "print(d)\n",
    "d = {'dict': 1, 'dictionary': 2}\n",
    "print(d)\n",
    "d = dict([(1, 1), (2, 4)])\n",
    "print(d)\n",
    "d = dict.fromkeys(['a', 'b'])\n",
    "print(d)\n",
    "d = dict.fromkeys(['a', 'b'], 100)\n",
    "print(d)\n",
    "d = {a: a ** 2 for a in range(7)}\n",
    "print(d)\n",
    "d = {1: 2, 2: 4, 3: 9}\n",
    "print(d[1])\n",
    "d[4] = 4 ** 2\n",
    "print(d[4])\n",
    "print(d)\n",
    "print(d.copy())\n",
    "d.clear()\n",
    "print(d)"
   ]
  },
  {
   "cell_type": "code",
   "execution_count": 21,
   "metadata": {},
   "outputs": [
    {
     "name": "stdout",
     "output_type": "stream",
     "text": [
      "set()\n",
      "{'l', 'h', 'o', 'e'}\n",
      "{'b', 'c', 'a', 'd'}\n",
      "{0, 1, 64, 4, 36, 9, 16, 49, 81, 25}\n",
      "{'f', 'e', 'k', 'c', 'a', 'd', 'b', 'g'}\n",
      "{5, 'c', 'a', 'd', 'b'}\n",
      "{'c', 'a', 'd', 'b'}\n",
      "None\n",
      "True\n"
     ]
    }
   ],
   "source": [
    "a = set()\n",
    "print(a)\n",
    "a = set('hello')\n",
    "print(a)\n",
    "a = {'a', 'b', 'c', 'd'}\n",
    "print(a)\n",
    "a = {i ** 2 for i in range(10)} # генератор множеств\n",
    "print(a)\n",
    "a={'a', 'b', 'c', 'd'}\n",
    "b={'e', 'f', 'g', 'k'}\n",
    "print(a.union(b))\n",
    "a.add(5)\n",
    "print(a)\n",
    "a.remove(5)\n",
    "print(a)\n",
    "print(a.clear())\n",
    "a = set('qwerty')\n",
    "b = frozenset('qwerty')\n",
    "print(a==b)"
   ]
  },
  {
   "cell_type": "code",
   "execution_count": 22,
   "metadata": {},
   "outputs": [
    {
     "name": "stdout",
     "output_type": "stream",
     "text": [
      "11\n",
      "None\n",
      "5\n",
      "(1, 2, 3, 'abc')\n",
      "{'a': 1, 'b': 2, 'c': 3}\n",
      "3\n"
     ]
    }
   ],
   "source": [
    "def add(x, y):\n",
    "    return x + y\n",
    "print(add(1, 10))\n",
    "def func():\n",
    "    pass\n",
    "print(func())\n",
    "def func(a, b, c=2):\n",
    "    return a + b + c\n",
    "print(func(1, 2))\n",
    "def func(*args):\n",
    "    return args\n",
    "print(func(1, 2, 3, 'abc'))\n",
    "def func(**kwargs):\n",
    "    return kwargs\n",
    "print(func(a=1, b=2, c=3))\n",
    "func = lambda x, y: x + y\n",
    "print(func(1, 2))"
   ]
  },
  {
   "cell_type": "code",
   "execution_count": 23,
   "metadata": {},
   "outputs": [
    {
     "name": "stdout",
     "output_type": "stream",
     "text": [
      "0\n",
      "Это что ещё такое?\n",
      "Пока.\n"
     ]
    }
   ],
   "source": [
    "try:\n",
    "    k = 1 / 0\n",
    "except ZeroDivisionError:\n",
    "    k = 0\n",
    "print(k)\n",
    "ints = []\n",
    "try:\n",
    "    ints.append(int(line))\n",
    "except ValueError:\n",
    "    print('Это не число. Выходим.')\n",
    "except Exception:\n",
    "    print('Это что ещё такое?')\n",
    "else:\n",
    "    print('Всё хорошо.')\n",
    "finally:\n",
    "    print('Пока.')"
   ]
  },
  {
   "cell_type": "code",
   "execution_count": 24,
   "metadata": {},
   "outputs": [
    {
     "name": "stdout",
     "output_type": "stream",
     "text": [
      "b'bytes'\n",
      "b'\\xd0\\x91\\xd0\\xb0\\xd0\\xb9\\xd1\\x82\\xd1\\x8b'\n",
      "b'bytes'\n",
      "b'2dLH)'\n",
      "2\n",
      "d\n",
      "L\n",
      "Байты\n",
      "bytearray(b'hello world!')\n",
      "104\n",
      "bytearray(b'hfnos%}vzun,')\n"
     ]
    }
   ],
   "source": [
    "print(b'bytes')\n",
    "print('Байты'.encode('utf-8'))\n",
    "print(bytes('bytes', encoding = 'utf-8'))\n",
    "print(bytes([50, 100, 76, 72, 41]))\n",
    "print(chr(50))\n",
    "print(chr(100))\n",
    "print(chr(76))\n",
    "print(b'\\xd0\\x91\\xd0\\xb0\\xd0\\xb9\\xd1\\x82\\xd1\\x8b'.decode('utf-8'))\n",
    "b = bytearray(b'hello world!')\n",
    "print(b)\n",
    "print(b[0])\n",
    "for i in range(len(b)):\n",
    "    b[i] += i\n",
    "print(b)"
   ]
  },
  {
   "cell_type": "code",
   "execution_count": 25,
   "metadata": {},
   "outputs": [
    {
     "name": "stdout",
     "output_type": "stream",
     "text": [
      "['0-1', '10', '21', '32', '43', '54', '65', '76', '87', '98', '109', '1110', '1211', '1312', '1413', '1514', '1615', '1716', '1817', '1918']\n"
     ]
    }
   ],
   "source": [
    "f = open('text.txt', 'w+')\n",
    "l = [str(i)+str(i-1) for i in range(20)]\n",
    "for index in l:\n",
    "    f.write(index + '\\n')\n",
    "print(l)\n",
    "f.close()"
   ]
  },
  {
   "cell_type": "code",
   "execution_count": 26,
   "metadata": {},
   "outputs": [
    {
     "name": "stdout",
     "output_type": "stream",
     "text": [
      "7\n"
     ]
    }
   ],
   "source": [
    "with open('newfile.txt', 'w', encoding='utf-8') as g:\n",
    "    d = int(input())\n",
    "    print('1 / {} = {}'.format(d, 1 / d), file=g)"
   ]
  },
  {
   "cell_type": "code",
   "execution_count": 27,
   "metadata": {},
   "outputs": [
    {
     "name": "stdout",
     "output_type": "stream",
     "text": [
      "hello world\n"
     ]
    }
   ],
   "source": [
    "class A:\n",
    "    def g(self):\n",
    "        return 'hello world'\n",
    "a = A()\n",
    "print(a.g())"
   ]
  },
  {
   "cell_type": "code",
   "execution_count": 28,
   "metadata": {},
   "outputs": [
    {
     "name": "stdout",
     "output_type": "stream",
     "text": [
      "Это приватный метод!\n",
      "None\n",
      "{'a': 1, 'b': 2, 'c': 4}\n",
      "None\n",
      "0\n",
      "2\n",
      "11\n"
     ]
    }
   ],
   "source": [
    "class A:\n",
    "    def _private(self):\n",
    "        print(\"Это приватный метод!\")\n",
    "a = A()\n",
    "print(a._private())\n",
    "class Mydict(dict):\n",
    "    def get(self, key, default = 0):\n",
    "        return dict.get(self, key, default)\n",
    "a = dict(a=1, b=2)\n",
    "b = Mydict(a=1, b=2)\n",
    "b['c'] = 4\n",
    "print(b)\n",
    "print(a.get('v'))\n",
    "print(b.get('v'))\n",
    "print(1 + 1)\n",
    "print(\"1\" + \"1\")"
   ]
  },
  {
   "cell_type": "code",
   "execution_count": 29,
   "metadata": {},
   "outputs": [
    {
     "name": "stdout",
     "output_type": "stream",
     "text": [
      "Vasya\n"
     ]
    }
   ],
   "source": [
    "class A:\n",
    "    def __init__(self, name):\n",
    "        self.name = name\n",
    "a = A('Vasya')\n",
    "print(a.name)"
   ]
  },
  {
   "cell_type": "code",
   "execution_count": null,
   "metadata": {},
   "outputs": [],
   "source": []
  }
 ],
 "metadata": {
  "kernelspec": {
   "display_name": "Python 3",
   "language": "python",
   "name": "python3"
  },
  "language_info": {
   "codemirror_mode": {
    "name": "ipython",
    "version": 3
   },
   "file_extension": ".py",
   "mimetype": "text/x-python",
   "name": "python",
   "nbconvert_exporter": "python",
   "pygments_lexer": "ipython3",
   "version": "3.7.2"
  }
 },
 "nbformat": 4,
 "nbformat_minor": 2
}
